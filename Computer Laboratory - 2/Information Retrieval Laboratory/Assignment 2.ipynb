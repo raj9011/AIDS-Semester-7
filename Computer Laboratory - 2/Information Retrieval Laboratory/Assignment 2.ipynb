{
 "cells": [
  {
   "cell_type": "markdown",
   "metadata": {
    "id": "O8cD5dBkuPuZ"
   },
   "source": [
    "# import libraries"
   ]
  },
  {
   "cell_type": "code",
   "execution_count": 44,
   "metadata": {
    "id": "nE7pdbcyt5Ba",
    "outputId": "2e240a3d-5a6c-4675-fe85-ae21e13b5f5a"
   },
   "outputs": [],
   "source": [
    "# Handling Data\n",
    "import pandas as pd\n",
    "import numpy as np\n",
    "\n",
    "# Visialization\n",
    "import matplotlib.pyplot as plt\n",
    "import seaborn as sns\n",
    "sns.set_style('whitegrid')\n",
    "\n",
    "# For Text processing \n",
    "import nltk\n",
    "from nltk.corpus import stopwords \n",
    "from nltk.tokenize import word_tokenize\n",
    "# nltk.download('punkt')\n",
    "# nltk.download('stopwords')\n",
    "\n",
    "# ML\n",
    "from sklearn.model_selection import train_test_split\n",
    "from sklearn.feature_extraction.text import CountVectorizer\n",
    "from sklearn.linear_model import LogisticRegression\n",
    "from sklearn.model_selection import GridSearchCV\n",
    "from sklearn.feature_extraction.text import CountVectorizer\n",
    "# DL\n",
    "from tensorflow.keras.utils import plot_model\n",
    "from tensorflow.keras.layers import Conv1D, Dense, MaxPooling1D, BatchNormalization, Flatten, Dropout\n",
    "from tensorflow.keras.models import Sequential\n",
    "\n",
    "#Accuracy Metrics\n",
    "from sklearn.metrics import accuracy_score, classification_report, confusion_matrix\n"
   ]
  },
  {
   "cell_type": "markdown",
   "metadata": {
    "id": "S8F2Rzv9ObNl"
   },
   "source": [
    "## Reading Data"
   ]
  },
  {
   "cell_type": "code",
   "execution_count": 45,
   "metadata": {
    "id": "Qrz2mhZvuK6d"
   },
   "outputs": [],
   "source": [
    "df = pd.read_csv('spam_ham_dataset.csv')\n",
    "# Removing Unnecessary column\n",
    "df.drop('Unnamed: 0', axis=1, inplace = True)\n",
    "# Changing column names\n",
    "df.columns = ['label', 'text', 'class']"
   ]
  },
  {
   "cell_type": "code",
   "execution_count": 46,
   "metadata": {
    "id": "4V4Ypj1SuxxR",
    "outputId": "1c48b64b-130d-41b1-f543-1d3762e06d7e"
   },
   "outputs": [
    {
     "data": {
      "text/html": [
       "<div>\n",
       "<style scoped>\n",
       "    .dataframe tbody tr th:only-of-type {\n",
       "        vertical-align: middle;\n",
       "    }\n",
       "\n",
       "    .dataframe tbody tr th {\n",
       "        vertical-align: top;\n",
       "    }\n",
       "\n",
       "    .dataframe thead th {\n",
       "        text-align: right;\n",
       "    }\n",
       "</style>\n",
       "<table border=\"1\" class=\"dataframe\">\n",
       "  <thead>\n",
       "    <tr style=\"text-align: right;\">\n",
       "      <th></th>\n",
       "      <th>label</th>\n",
       "      <th>text</th>\n",
       "      <th>class</th>\n",
       "    </tr>\n",
       "  </thead>\n",
       "  <tbody>\n",
       "    <tr>\n",
       "      <th>0</th>\n",
       "      <td>ham</td>\n",
       "      <td>Subject: enron methanol ; meter # : 988291\\r\\n...</td>\n",
       "      <td>0</td>\n",
       "    </tr>\n",
       "    <tr>\n",
       "      <th>1</th>\n",
       "      <td>ham</td>\n",
       "      <td>Subject: hpl nom for january 9 , 2001\\r\\n( see...</td>\n",
       "      <td>0</td>\n",
       "    </tr>\n",
       "    <tr>\n",
       "      <th>2</th>\n",
       "      <td>ham</td>\n",
       "      <td>Subject: neon retreat\\r\\nho ho ho , we ' re ar...</td>\n",
       "      <td>0</td>\n",
       "    </tr>\n",
       "    <tr>\n",
       "      <th>3</th>\n",
       "      <td>spam</td>\n",
       "      <td>Subject: photoshop , windows , office . cheap ...</td>\n",
       "      <td>1</td>\n",
       "    </tr>\n",
       "    <tr>\n",
       "      <th>4</th>\n",
       "      <td>ham</td>\n",
       "      <td>Subject: re : indian springs\\r\\nthis deal is t...</td>\n",
       "      <td>0</td>\n",
       "    </tr>\n",
       "  </tbody>\n",
       "</table>\n",
       "</div>"
      ],
      "text/plain": [
       "  label                                               text  class\n",
       "0   ham  Subject: enron methanol ; meter # : 988291\\r\\n...      0\n",
       "1   ham  Subject: hpl nom for january 9 , 2001\\r\\n( see...      0\n",
       "2   ham  Subject: neon retreat\\r\\nho ho ho , we ' re ar...      0\n",
       "3  spam  Subject: photoshop , windows , office . cheap ...      1\n",
       "4   ham  Subject: re : indian springs\\r\\nthis deal is t...      0"
      ]
     },
     "execution_count": 46,
     "metadata": {},
     "output_type": "execute_result"
    }
   ],
   "source": [
    "df.head()"
   ]
  },
  {
   "cell_type": "code",
   "execution_count": 47,
   "metadata": {
    "id": "mhZnmyp8vsya",
    "outputId": "86e17c38-2fd7-4553-d666-438feed23b48"
   },
   "outputs": [
    {
     "data": {
      "text/plain": [
       "(5171, 3)"
      ]
     },
     "execution_count": 47,
     "metadata": {},
     "output_type": "execute_result"
    }
   ],
   "source": [
    "df.shape"
   ]
  },
  {
   "cell_type": "code",
   "execution_count": 48,
   "metadata": {
    "id": "eKUn0dTczAv1",
    "outputId": "ce0da8c6-1104-4cb6-a027-386f095cbd64"
   },
   "outputs": [
    {
     "name": "stdout",
     "output_type": "stream",
     "text": [
      "<class 'pandas.core.frame.DataFrame'>\n",
      "RangeIndex: 5171 entries, 0 to 5170\n",
      "Data columns (total 3 columns):\n",
      " #   Column  Non-Null Count  Dtype \n",
      "---  ------  --------------  ----- \n",
      " 0   label   5171 non-null   object\n",
      " 1   text    5171 non-null   object\n",
      " 2   class   5171 non-null   int64 \n",
      "dtypes: int64(1), object(2)\n",
      "memory usage: 121.3+ KB\n"
     ]
    }
   ],
   "source": [
    "df.info()"
   ]
  },
  {
   "cell_type": "code",
   "execution_count": 49,
   "metadata": {
    "id": "sONgIfWCzH7o",
    "outputId": "af497a07-63d3-4ca9-fda8-edf0eba3752b"
   },
   "outputs": [
    {
     "data": {
      "text/plain": [
       "label    0\n",
       "text     0\n",
       "class    0\n",
       "dtype: int64"
      ]
     },
     "execution_count": 49,
     "metadata": {},
     "output_type": "execute_result"
    }
   ],
   "source": [
    "# No NaN in the data\n",
    "df.isna().sum()"
   ]
  },
  {
   "cell_type": "code",
   "execution_count": 50,
   "metadata": {
    "id": "DB9ifKO7v7ji",
    "outputId": "de2e91d1-c700-4676-bdf7-e177eb09f661"
   },
   "outputs": [
    {
     "data": {
      "image/png": "[encoded data removed]",
      "text/plain": [
       "<Figure size 864x432 with 1 Axes>"
      ]
     },
     "metadata": {},
     "output_type": "display_data"
    }
   ],
   "source": [
    "# Barplot describes the count of the class labels\n",
    "plt.figure(figsize = (12, 6))\n",
    "sns.countplot(data = df, x = 'label');"
   ]
  },
  {
   "cell_type": "code",
   "execution_count": 51,
   "metadata": {},
   "outputs": [],
   "source": [
    "#count vectorizer"
   ]
  },
  {
   "cell_type": "markdown",
   "metadata": {},
   "source": [
    "## Viewing samples of the data"
   ]
  },
  {
   "cell_type": "code",
   "execution_count": 55,
   "metadata": {},
   "outputs": [
    {
     "name": "stdout",
     "output_type": "stream",
     "text": [
      "Class Label: ham\n",
      "Mail: \n",
      "Subject : enron methanol ; meter # : 988291 follow note gave monday , 4 / 3 / 00 { preliminary flow data provided daren } . please override pop ' daily volume { presently zero } reflect daily activity obtain gas control . change needed asap economics purposes .\n",
      "\n",
      "\n",
      "Class Label: ham\n",
      "Mail: \n",
      "Subject : hpl nom january 9 , 2001 ( see attached file : hplnol 09 . xls ) - hplnol 09 . xls\n",
      "\n",
      "\n",
      "Class Label: ham\n",
      "Mail: \n",
      "Subject : neon retreat ho ho ho , ' around wonderful time year - - - neon leaders retreat time ! know time year extremely hectic , ' tough think anything past holidays , life go past week december 25 january 1 , ' ' like think minute . calender handed beginning fall semester , retreat scheduled weekend january 5 - 6 . youth ministers conference brad dustin connected week , ' going change date following weekend , january 12 - 13 . comes part need think . think agree ' important us get together time recharge batteries get far spring semester , lot trouble difficult us get away without kids , etc . , brad came potential alternative get together weekend , let know prefer . first option would retreat similar ' done past several years . year could go heartland country inn ( www . . com ) outside brenham . ' nice place , ' 13 - bedroom 5 - bedroom house side side . ' country , real relaxing , also close brenham one hour 15 minutes . golf , shop antique craft stores brenham , eat dinner together ranch , spend time . ' meet saturday , return sunday morning , like ' done past . second option would stay houston , dinner together nice restaurant , dessert time visiting recharging one homes saturday evening . might easier , trade would ' much time together . ' let decide . email back would preference , course ' available weekend . democratic process prevail - - majority vote rule ! let hear soon possible , preferably end weekend . vote ' go way , complaining allowed ( like tend ! ) great weekend , great golf , great fishing , great shopping , whatever makes happy ! bobby\n",
      "\n",
      "\n",
      "Class Label: spam\n",
      "Mail: \n",
      "Subject : photoshop , windows , office . cheap . main trending abasements darer prudently fortuitous undergone lighthearted charm orinoco taster railroad affluent pornographic cuvier irvin parkhouse blameworthy chlorophyll robed diagrammatic fogarty clears bayda inconveniencing managing represented smartness hashish academies shareholders unload badness danielson pure caffein spaniard chargeable levin\n",
      "\n",
      "\n",
      "Class Label: ham\n",
      "Mail: \n",
      "Subject : : indian springs deal book teco pvr revenue . understanding teco sends us check , ' received answer whether predermined price associated deal teco lets us know giving . continue chase deal need .\n",
      "\n",
      "\n",
      "Class Label: ham\n",
      "Mail: \n",
      "Subject : ehronline web address change message intended ehronline users . due recent change ehronline , url ( aka `` web address `` ) accessing ehronline needs changed computer . change involves adding letter `` `` `` http `` reference url . url accessing ehronline : https : / / ehronline . enron . com . change made added url favorite browser .\n",
      "\n",
      "\n",
      "Class Label: ham\n",
      "Mail: \n",
      "Subject : spring savings certificate - take 30 % save 30 % use customer appreciation spring savings certificate foot locker , lady foot locker , kids foot locker online stores ! welcome customer appreciation spring savings certificate ! use special certificate receive 30 % purchases either stores online . hurry ! 4 - day sale begins thursday , march 22 ends sunday , march 25 . share savings today e - mail offer friends . many items already reduced 30 % discount taken lowest sale price . click print customer appreciation spring savings certificate . must present coupon foot locker , lady foot locker kids foot locker store u . . foot locker canada participating program . ready , set , save ! spring savings discount automatically appear use links type camlem 21 promotion code box checkout . footlocker . com certificate code : camlem 21 ladyfootlocker . com certificate code : camlem 21 kidsfootlocker . com certificate code : camlem 21 remember , returns hassle - free . simply bring items stores nationwide mail . ' left - register today learn new products , promotions , events specials . simply click . terms conditions . exclusions apply , please see manager complete details . certificate must presented time purchase used conjunction discount offer associate benefit . redeemable cash . applicable taxes must paid bearer . applied prior purchases gift card purchases . void prohibited , licensed regulated . catalog exclusions apply . valid thursday , 3 / 22 / 01 sunday , 3 / 25 / 01 . foot locker canada participate program . wish receive future emails please click unsubscribe :\n",
      "\n",
      "\n"
     ]
    }
   ],
   "source": [
    "# few examples of the data\n",
    "\n",
    "for i in df.iterrows():\n",
    "    print(\"Class Label: {}\\nMail: \\n{}\\n\\n\".format(i[1][0], i[1][1]))\n",
    "    if i[0] == 6: break\n",
    "   "
   ]
  },
  {
   "cell_type": "markdown",
   "metadata": {
    "id": "4BZWS-zY2h_M"
   },
   "source": [
    "## Remove stopwords from the data"
   ]
  },
  {
   "cell_type": "code",
   "execution_count": 53,
   "metadata": {
    "id": "h7GU-Mhj3RYH",
    "outputId": "d6a1a6af-6bed-4ca3-c15d-b370d0ae35b2"
   },
   "outputs": [
    {
     "name": "stdout",
     "output_type": "stream",
     "text": [
      "CPU times: user 11 s, sys: 0 ns, total: 11 s\n",
      "Wall time: 11 s\n"
     ]
    }
   ],
   "source": [
    "%%time\n",
    "stop_words = set(stopwords.words('english')) \n",
    "\n",
    "df['text'] = df['text'].apply(lambda x: ' '.join([ word for word in word_tokenize(x)  if not word in stop_words]))"
   ]
  },
  {
   "cell_type": "code",
   "execution_count": 54,
   "metadata": {
    "id": "JQinq_gr4Gtk",
    "outputId": "e270f616-afab-41e2-88ac-c1d4d94a8ac0"
   },
   "outputs": [
    {
     "data": {
      "text/html": [
       "<div>\n",
       "<style scoped>\n",
       "    .dataframe tbody tr th:only-of-type {\n",
       "        vertical-align: middle;\n",
       "    }\n",
       "\n",
       "    .dataframe tbody tr th {\n",
       "        vertical-align: top;\n",
       "    }\n",
       "\n",
       "    .dataframe thead th {\n",
       "        text-align: right;\n",
       "    }\n",
       "</style>\n",
       "<table border=\"1\" class=\"dataframe\">\n",
       "  <thead>\n",
       "    <tr style=\"text-align: right;\">\n",
       "      <th></th>\n",
       "      <th>label</th>\n",
       "      <th>text</th>\n",
       "      <th>class</th>\n",
       "    </tr>\n",
       "  </thead>\n",
       "  <tbody>\n",
       "    <tr>\n",
       "      <th>2277</th>\n",
       "      <td>ham</td>\n",
       "      <td>Subject : feb 2000 intercompany accrual varian...</td>\n",
       "      <td>0</td>\n",
       "    </tr>\n",
       "    <tr>\n",
       "      <th>3865</th>\n",
       "      <td>ham</td>\n",
       "      <td>Subject : july nominations shell deer park - -...</td>\n",
       "      <td>0</td>\n",
       "    </tr>\n",
       "    <tr>\n",
       "      <th>2697</th>\n",
       "      <td>ham</td>\n",
       "      <td>Subject : jan . 01 sale texas general land off...</td>\n",
       "      <td>0</td>\n",
       "    </tr>\n",
       "    <tr>\n",
       "      <th>5005</th>\n",
       "      <td>ham</td>\n",
       "      <td>Subject : point change deals oh yeah , goes de...</td>\n",
       "      <td>0</td>\n",
       "    </tr>\n",
       "    <tr>\n",
       "      <th>1056</th>\n",
       "      <td>ham</td>\n",
       "      <td>Subject : : meter 9707 vance , find anything p...</td>\n",
       "      <td>0</td>\n",
       "    </tr>\n",
       "    <tr>\n",
       "      <th>4156</th>\n",
       "      <td>ham</td>\n",
       "      <td>Subject : meter 8740 dec 99 daren - set delive...</td>\n",
       "      <td>0</td>\n",
       "    </tr>\n",
       "    <tr>\n",
       "      <th>1595</th>\n",
       "      <td>ham</td>\n",
       "      <td>Subject : txu fuel co . nom . 2 / 21 / 01 - re...</td>\n",
       "      <td>0</td>\n",
       "    </tr>\n",
       "    <tr>\n",
       "      <th>4173</th>\n",
       "      <td>ham</td>\n",
       "      <td>Subject : valero ' february gas nominations da...</td>\n",
       "      <td>0</td>\n",
       "    </tr>\n",
       "    <tr>\n",
       "      <th>129</th>\n",
       "      <td>spam</td>\n",
       "      <td>Subject : ? r ? ? ? ? ? ? ? ? apaliourg @ iit ...</td>\n",
       "      <td>1</td>\n",
       "    </tr>\n",
       "    <tr>\n",
       "      <th>4011</th>\n",
       "      <td>spam</td>\n",
       "      <td>Subject : legacy power products . power outlet...</td>\n",
       "      <td>1</td>\n",
       "    </tr>\n",
       "  </tbody>\n",
       "</table>\n",
       "</div>"
      ],
      "text/plain": [
       "     label                                               text  class\n",
       "2277   ham  Subject : feb 2000 intercompany accrual varian...      0\n",
       "3865   ham  Subject : july nominations shell deer park - -...      0\n",
       "2697   ham  Subject : jan . 01 sale texas general land off...      0\n",
       "5005   ham  Subject : point change deals oh yeah , goes de...      0\n",
       "1056   ham  Subject : : meter 9707 vance , find anything p...      0\n",
       "4156   ham  Subject : meter 8740 dec 99 daren - set delive...      0\n",
       "1595   ham  Subject : txu fuel co . nom . 2 / 21 / 01 - re...      0\n",
       "4173   ham  Subject : valero ' february gas nominations da...      0\n",
       "129   spam  Subject : ? r ? ? ? ? ? ? ? ? apaliourg @ iit ...      1\n",
       "4011  spam  Subject : legacy power products . power outlet...      1"
      ]
     },
     "execution_count": 54,
     "metadata": {},
     "output_type": "execute_result"
    }
   ],
   "source": [
    "df.sample(10)"
   ]
  },
  {
   "cell_type": "code",
   "execution_count": 56,
   "metadata": {
    "id": "63JwhjEF0WxE",
    "outputId": "dc8aaf36-8208-4b45-d712-e4fb305a6be4"
   },
   "outputs": [
    {
     "name": "stdout",
     "output_type": "stream",
     "text": [
      "Shape of X: (5171,)\n",
      "shape of y: (5171,)\n"
     ]
    }
   ],
   "source": [
    "X = df.loc[:, 'text']\n",
    "y = df.loc[:, 'class']\n",
    "\n",
    "print(f\"Shape of X: {X.shape}\\nshape of y: {y.shape}\")"
   ]
  },
  {
   "cell_type": "markdown",
   "metadata": {
    "id": "ydvg7VkF0FH-"
   },
   "source": [
    "## Split data into **train** and **test** in 80:20"
   ]
  },
  {
   "cell_type": "code",
   "execution_count": 57,
   "metadata": {
    "id": "0oACJb0FwgQo"
   },
   "outputs": [],
   "source": [
    "X_train, X_test, y_train, y_test = train_test_split(X, y, test_size=0.20, random_state=11)"
   ]
  },
  {
   "cell_type": "code",
   "execution_count": 58,
   "metadata": {
    "id": "Q8bb5GmWyaUA",
    "outputId": "1d6c4a73-4030-4541-d3b6-fa26f97f98c7"
   },
   "outputs": [
    {
     "name": "stdout",
     "output_type": "stream",
     "text": [
      "Train Data Shape: (4136,)\n",
      "Test Data Shape: (1035,)\n"
     ]
    }
   ],
   "source": [
    "print(f\"Train Data Shape: {X_train.shape}\\nTest Data Shape: {X_test.shape}\")"
   ]
  },
  {
   "cell_type": "markdown",
   "metadata": {
    "id": "Nj1asxUf1ceq"
   },
   "source": [
    "## Preprocess text to build the ML mdel"
   ]
  },
  {
   "cell_type": "code",
   "execution_count": 59,
   "metadata": {
    "id": "IeIRTO4k1Zmg",
    "outputId": "473a3c9e-9ae6-40c6-a095-c5013d291d6c"
   },
   "outputs": [
    {
     "data": {
      "text/html": [
       "<style>#sk-container-id-1 {color: black;background-color: white;}#sk-container-id-1 pre{padding: 0;}#sk-container-id-1 div.sk-toggleable {background-color: white;}#sk-container-id-1 label.sk-toggleable__label {cursor: pointer;display: block;width: 100%;margin-bottom: 0;padding: 0.3em;box-sizing: border-box;text-align: center;}#sk-container-id-1 label.sk-toggleable__label-arrow:before {content: \"▸\";float: left;margin-right: 0.25em;color: #696969;}#sk-container-id-1 label.sk-toggleable__label-arrow:hover:before {color: black;}#sk-container-id-1 div.sk-estimator:hover label.sk-toggleable__label-arrow:before {color: black;}#sk-container-id-1 div.sk-toggleable__content {max-height: 0;max-width: 0;overflow: hidden;text-align: left;background-color: #f0f8ff;}#sk-container-id-1 div.sk-toggleable__content pre {margin: 0.2em;color: black;border-radius: 0.25em;background-color: #f0f8ff;}#sk-container-id-1 input.sk-toggleable__control:checked~div.sk-toggleable__content {max-height: 200px;max-width: 100%;overflow: auto;}#sk-container-id-1 input.sk-toggleable__control:checked~label.sk-toggleable__label-arrow:before {content: \"▾\";}#sk-container-id-1 div.sk-estimator input.sk-toggleable__control:checked~label.sk-toggleable__label {background-color: #d4ebff;}#sk-container-id-1 div.sk-label input.sk-toggleable__control:checked~label.sk-toggleable__label {background-color: #d4ebff;}#sk-container-id-1 input.sk-hidden--visually {border: 0;clip: rect(1px 1px 1px 1px);clip: rect(1px, 1px, 1px, 1px);height: 1px;margin: -1px;overflow: hidden;padding: 0;position: absolute;width: 1px;}#sk-container-id-1 div.sk-estimator {font-family: monospace;background-color: #f0f8ff;border: 1px dotted black;border-radius: 0.25em;box-sizing: border-box;margin-bottom: 0.5em;}#sk-container-id-1 div.sk-estimator:hover {background-color: #d4ebff;}#sk-container-id-1 div.sk-parallel-item::after {content: \"\";width: 100%;border-bottom: 1px solid gray;flex-grow: 1;}#sk-container-id-1 div.sk-label:hover label.sk-toggleable__label {background-color: #d4ebff;}#sk-container-id-1 div.sk-serial::before {content: \"\";position: absolute;border-left: 1px solid gray;box-sizing: border-box;top: 0;bottom: 0;left: 50%;z-index: 0;}#sk-container-id-1 div.sk-serial {display: flex;flex-direction: column;align-items: center;background-color: white;padding-right: 0.2em;padding-left: 0.2em;position: relative;}#sk-container-id-1 div.sk-item {position: relative;z-index: 1;}#sk-container-id-1 div.sk-parallel {display: flex;align-items: stretch;justify-content: center;background-color: white;position: relative;}#sk-container-id-1 div.sk-item::before, #sk-container-id-1 div.sk-parallel-item::before {content: \"\";position: absolute;border-left: 1px solid gray;box-sizing: border-box;top: 0;bottom: 0;left: 50%;z-index: -1;}#sk-container-id-1 div.sk-parallel-item {display: flex;flex-direction: column;z-index: 1;position: relative;background-color: white;}#sk-container-id-1 div.sk-parallel-item:first-child::after {align-self: flex-end;width: 50%;}#sk-container-id-1 div.sk-parallel-item:last-child::after {align-self: flex-start;width: 50%;}#sk-container-id-1 div.sk-parallel-item:only-child::after {width: 0;}#sk-container-id-1 div.sk-dashed-wrapped {border: 1px dashed gray;margin: 0 0.4em 0.5em 0.4em;box-sizing: border-box;padding-bottom: 0.4em;background-color: white;}#sk-container-id-1 div.sk-label label {font-family: monospace;font-weight: bold;display: inline-block;line-height: 1.2em;}#sk-container-id-1 div.sk-label-container {text-align: center;}#sk-container-id-1 div.sk-container {/* jupyter's `normalize.less` sets `[hidden] { display: none; }` but bootstrap.min.css set `[hidden] { display: none !important; }` so we also need the `!important` here to be able to override the default hidden behavior on the sphinx rendered scikit-learn.org. See: https://github.com/scikit-learn/scikit-learn/issues/21755 */display: inline-block !important;position: relative;}#sk-container-id-1 div.sk-text-repr-fallback {display: none;}</style><div id=\"sk-container-id-1\" class=\"sk-top-container\"><div class=\"sk-text-repr-fallback\"><pre>CountVectorizer()</pre><b>In a Jupyter environment, please rerun this cell to show the HTML representation or trust the notebook. <br />On GitHub, the HTML representation is unable to render, please try loading this page with nbviewer.org.</b></div><div class=\"sk-container\" hidden><div class=\"sk-item\"><div class=\"sk-estimator sk-toggleable\"><input class=\"sk-toggleable__control sk-hidden--visually\" id=\"sk-estimator-id-1\" type=\"checkbox\" checked><label for=\"sk-estimator-id-1\" class=\"sk-toggleable__label sk-toggleable__label-arrow\">CountVectorizer</label><div class=\"sk-toggleable__content\"><pre>CountVectorizer()</pre></div></div></div></div></div>"
      ],
      "text/plain": [
       "CountVectorizer()"
      ]
     },
     "execution_count": 59,
     "metadata": {},
     "output_type": "execute_result"
    }
   ],
   "source": [
    "cVect = CountVectorizer()\n",
    "cVect.fit(X_train)"
   ]
  },
  {
   "cell_type": "markdown",
   "metadata": {
    "id": "IXpAECJD2I_S"
   },
   "source": [
    "  Let's see the vocabulary that has extracted by hte count vextorizer"
   ]
  },
  {
   "cell_type": "code",
   "execution_count": 60,
   "metadata": {
    "id": "bg-bwb7713_n",
    "outputId": "23a58ab4-95db-42e8-dd7f-4ed9a2f2dafb"
   },
   "outputs": [
    {
     "name": "stdout",
     "output_type": "stream",
     "text": [
      "NO.of Tokens:  44255\n"
     ]
    }
   ],
   "source": [
    "print('NO.of Tokens: ',len(cVect.vocabulary_.keys()))"
   ]
  },
  {
   "cell_type": "code",
   "execution_count": 61,
   "metadata": {
    "id": "bn43UCPJ2Qbj"
   },
   "outputs": [],
   "source": [
    "# document term vector (dtv)\n",
    "dtv = cVect.transform(X_train)"
   ]
  },
  {
   "cell_type": "code",
   "execution_count": 62,
   "metadata": {
    "id": "pHqy7JQt44Ay",
    "outputId": "368312bf-401e-4a9e-e661-724a0a93e554"
   },
   "outputs": [
    {
     "data": {
      "text/plain": [
       "scipy.sparse._csr.csr_matrix"
      ]
     },
     "execution_count": 62,
     "metadata": {},
     "output_type": "execute_result"
    }
   ],
   "source": [
    "type(dtv)"
   ]
  },
  {
   "cell_type": "code",
   "execution_count": 63,
   "metadata": {
    "id": "UpvPOMXW46Tk"
   },
   "outputs": [],
   "source": [
    "dtv = dtv.toarray()"
   ]
  },
  {
   "cell_type": "code",
   "execution_count": 64,
   "metadata": {
    "id": "Z-eyUJKQ5KWa",
    "outputId": "da1cec67-4128-4049-f715-5b519d8f4024"
   },
   "outputs": [
    {
     "name": "stdout",
     "output_type": "stream",
     "text": [
      "Number of Observations: 4136\n",
      "Tokens/Features: 44255\n"
     ]
    }
   ],
   "source": [
    "print(f\"Number of Observations: {dtv.shape[0]}\\nTokens/Features: {dtv.shape[1]}\")"
   ]
  },
  {
   "cell_type": "code",
   "execution_count": 65,
   "metadata": {
    "id": "T9PsMu2D5PB9",
    "outputId": "6d929357-88fc-417e-a1bf-98b3003ac97b"
   },
   "outputs": [
    {
     "data": {
      "text/plain": [
       "array([0, 0, 0, ..., 0, 0, 0])"
      ]
     },
     "execution_count": 65,
     "metadata": {},
     "output_type": "execute_result"
    }
   ],
   "source": [
    "# Let's see an sample that has been preprocessed\n",
    "dtv[1]"
   ]
  },
  {
   "cell_type": "markdown",
   "metadata": {},
   "source": [
    "### Logistic Regression.\n",
    "\n",
    "##### **Logistic Regression** could help use predict whether the student passed or failed. Logistic regression predictions are discrete (only specific values or categories are allowed). We can also view probability scores underlying the model’s classifications."
   ]
  },
  {
   "cell_type": "markdown",
   "metadata": {},
   "source": [
    "### Hyperparameter Tuning"
   ]
  },
  {
   "cell_type": "code",
   "execution_count": null,
   "metadata": {},
   "outputs": [
    {
     "name": "stderr",
     "output_type": "stream",
     "text": [
      "[Parallel(n_jobs=1)]: Using backend SequentialBackend with 1 concurrent workers.\n"
     ]
    },
    {
     "name": "stdout",
     "output_type": "stream",
     "text": [
      "RUNNING THE L-BFGS-B CODE\n",
      "\n",
      "           * * *\n",
      "\n",
      "Machine precision = 2.220D-16\n",
      " N =        44256     M =           10\n",
      " This problem is unconstrained.\n",
      "\n",
      "At X0         0 variables are exactly at the bounds\n",
      "\n",
      "At iterate    0    f=  2.15014D+03    |proj g|=  4.26350D+03\n",
      "\n",
      "At iterate   50    f=  1.10558D+02    |proj g|=  1.18483D-02\n",
      "\n",
      "           * * *\n",
      "\n",
      "Tit   = total number of iterations\n",
      "Tnf   = total number of function evaluations\n",
      "Tnint = total number of segments explored during Cauchy searches\n",
      "Skip  = number of BFGS updates skipped\n",
      "Nact  = number of active bounds at final generalized Cauchy point\n",
      "Projg = norm of the final projected gradient\n",
      "F     = final function value\n",
      "\n",
      "           * * *\n",
      "\n",
      "   N    Tit     Tnf  Tnint  Skip  Nact     Projg        F\n",
      "44256     60     73      1     0     0   1.200D-02   1.106D+02\n",
      "  F =   110.55739054391424     \n",
      "\n",
      "CONVERGENCE: REL_REDUCTION_OF_F_<=_FACTR*EPSMCH             \n"
     ]
    },
    {
     "name": "stderr",
     "output_type": "stream",
     "text": [
      "[Parallel(n_jobs=1)]: Done   1 out of   1 | elapsed:   28.0s finished\n",
      "[Parallel(n_jobs=1)]: Using backend SequentialBackend with 1 concurrent workers.\n"
     ]
    },
    {
     "name": "stdout",
     "output_type": "stream",
     "text": [
      "RUNNING THE L-BFGS-B CODE\n",
      "\n",
      "           * * *\n",
      "\n",
      "Machine precision = 2.220D-16\n",
      " N =        44256     M =           10\n",
      " This problem is unconstrained.\n",
      "\n",
      "At X0         0 variables are exactly at the bounds\n",
      "\n",
      "At iterate    0    f=  2.15014D+03    |proj g|=  4.01050D+03\n",
      "\n",
      "At iterate   50    f=  1.17550D+02    |proj g|=  1.54788D-03\n",
      "\n",
      "           * * *\n",
      "\n",
      "Tit   = total number of iterations\n",
      "Tnf   = total number of function evaluations\n",
      "Tnint = total number of segments explored during Cauchy searches\n",
      "Skip  = number of BFGS updates skipped\n",
      "Nact  = number of active bounds at final generalized Cauchy point\n",
      "Projg = norm of the final projected gradient\n",
      "F     = final function value\n",
      "\n",
      "           * * *\n",
      "\n",
      "   N    Tit     Tnf  Tnint  Skip  Nact     Projg        F\n",
      "44256     51     58      1     0     0   5.131D-04   1.176D+02\n",
      "  F =   117.55023100239040     \n",
      "\n",
      "CONVERGENCE: REL_REDUCTION_OF_F_<=_FACTR*EPSMCH             \n"
     ]
    },
    {
     "name": "stderr",
     "output_type": "stream",
     "text": [
      "[Parallel(n_jobs=1)]: Done   1 out of   1 | elapsed:   19.0s finished\n",
      "[Parallel(n_jobs=1)]: Using backend SequentialBackend with 1 concurrent workers.\n"
     ]
    },
    {
     "name": "stdout",
     "output_type": "stream",
     "text": [
      "RUNNING THE L-BFGS-B CODE\n",
      "\n",
      "           * * *\n",
      "\n",
      "Machine precision = 2.220D-16\n",
      " N =        44256     M =           10\n",
      " This problem is unconstrained.\n",
      "\n",
      "At X0         0 variables are exactly at the bounds\n",
      "\n",
      "At iterate    0    f=  2.15014D+03    |proj g|=  4.52100D+03\n",
      "\n",
      "At iterate   50    f=  1.11735D+02    |proj g|=  4.08588D-03\n",
      "\n",
      "           * * *\n",
      "\n",
      "Tit   = total number of iterations\n",
      "Tnf   = total number of function evaluations\n",
      "Tnint = total number of segments explored during Cauchy searches\n",
      "Skip  = number of BFGS updates skipped\n",
      "Nact  = number of active bounds at final generalized Cauchy point\n",
      "Projg = norm of the final projected gradient\n",
      "F     = final function value\n",
      "\n",
      "           * * *\n",
      "\n",
      "   N    Tit     Tnf  Tnint  Skip  Nact     Projg        F\n",
      "44256     55     58      1     0     0   3.565D-03   1.117D+02\n",
      "  F =   111.73466627999926     \n",
      "\n",
      "CONVERGENCE: REL_REDUCTION_OF_F_<=_FACTR*EPSMCH             \n"
     ]
    },
    {
     "name": "stderr",
     "output_type": "stream",
     "text": [
      "[Parallel(n_jobs=1)]: Done   1 out of   1 | elapsed:   24.2s finished\n",
      "[Parallel(n_jobs=1)]: Using backend SequentialBackend with 1 concurrent workers.\n"
     ]
    },
    {
     "name": "stdout",
     "output_type": "stream",
     "text": [
      "RUNNING THE L-BFGS-B CODE\n",
      "\n",
      "           * * *\n",
      "\n",
      "Machine precision = 2.220D-16\n",
      " N =        44256     M =           10\n",
      " This problem is unconstrained.\n",
      "\n",
      "At X0         0 variables are exactly at the bounds\n",
      "\n",
      "At iterate    0    f=  2.15014D+03    |proj g|=  3.94050D+03\n",
      "\n",
      "At iterate   50    f=  1.16072D+02    |proj g|=  1.34644D-03\n",
      "\n",
      "           * * *\n",
      "\n",
      "Tit   = total number of iterations\n",
      "Tnf   = total number of function evaluations\n",
      "Tnint = total number of segments explored during Cauchy searches\n",
      "Skip  = number of BFGS updates skipped\n",
      "Nact  = number of active bounds at final generalized Cauchy point\n",
      "Projg = norm of the final projected gradient\n",
      "F     = final function value\n",
      "\n",
      "           * * *\n",
      "\n",
      "   N    Tit     Tnf  Tnint  Skip  Nact     Projg        F\n",
      "44256     56     64      1     0     0   1.063D-03   1.161D+02\n",
      "  F =   116.07234373067396     \n",
      "\n",
      "CONVERGENCE: REL_REDUCTION_OF_F_<=_FACTR*EPSMCH             \n"
     ]
    },
    {
     "name": "stderr",
     "output_type": "stream",
     "text": [
      "[Parallel(n_jobs=1)]: Done   1 out of   1 | elapsed:   20.6s finished\n"
     ]
    },
    {
     "name": "stdout",
     "output_type": "stream",
     "text": [
      "[LibLinear]iter  1 act 1.098e+03 pre 9.271e+02 delta 1.318e+00 f 2.150e+03 |g| 6.587e+03 CG   7\n",
      "cg reaches trust region boundary\n",
      "iter  2 act 4.386e+02 pre 3.428e+02 delta 1.907e+00 f 1.053e+03 |g| 2.128e+03 CG   8\n",
      "cg reaches trust region boundary\n",
      "iter  3 act 2.660e+02 pre 2.085e+02 delta 2.690e+00 f 6.140e+02 |g| 9.408e+02 CG   9\n",
      "cg reaches trust region boundary\n",
      "iter  4 act 1.490e+02 pre 1.195e+02 delta 3.631e+00 f 3.480e+02 |g| 4.542e+02 CG  12\n",
      "iter  5 act 5.954e+01 pre 4.877e+01 delta 3.779e+00 f 1.990e+02 |g| 1.808e+02 CG  12\n",
      "iter  6 act 1.604e+01 pre 1.345e+01 delta 3.779e+00 f 1.395e+02 |g| 7.476e+01 CG  11\n",
      "iter  7 act 6.462e+00 pre 5.293e+00 delta 3.779e+00 f 1.235e+02 |g| 3.312e+01 CG  11\n",
      "iter  8 act 3.042e+00 pre 2.351e+00 delta 3.779e+00 f 1.170e+02 |g| 1.661e+01 CG  11\n",
      "iter  9 act 2.010e+00 pre 1.640e+00 delta 3.779e+00 f 1.140e+02 |g| 7.347e+00 CG  12\n",
      "iter 10 act 7.777e-01 pre 6.540e-01 delta 3.779e+00 f 1.119e+02 |g| 3.601e+00 CG  11\n",
      "iter 11 act 9.332e-02 pre 8.481e-02 delta 3.779e+00 f 1.112e+02 |g| 1.517e+00 CG   9\n",
      "iter 12 act 6.313e-02 pre 5.592e-02 delta 3.779e+00 f 1.111e+02 |g| 9.200e-01 CG   8\n",
      "iter 13 act 1.413e-02 pre 1.066e-02 delta 3.779e+00 f 1.110e+02 |g| 3.853e-01 CG   7\n"
     ]
    }
   ],
   "source": [
    "lr = LogisticRegression(verbose=1)\n",
    "\n",
    "grid={\"C\":[float(i) for i in range(1, 3)], \"penalty\":[\"l2\"], \"solver\":[ 'lbfgs', 'liblinear']}\n",
    "logreg_cv=GridSearchCV(lr, grid, cv=4)\n",
    "logreg_cv.fit(dtv,y_train)\n",
    "\n",
    "print(\"Tuned Hpyerparameters :\",logreg_cv.best_params_)\n",
    "print(\"accuracy :\",logreg_cv.best_score_)"
   ]
  },
  {
   "cell_type": "code",
   "execution_count": null,
   "metadata": {
    "id": "Gyh2ZsoU6B4a",
    "outputId": "d7d71aaf-302e-4b04-ce0d-e4e3a5dcf9fa"
   },
   "outputs": [],
   "source": [
    "%%time\n",
    "lr = LogisticRegression(solver='liblinear', penalty ='l2' , C = 1.0)\n",
    "lr.fit(dtv, y_train)"
   ]
  },
  {
   "cell_type": "markdown",
   "metadata": {
    "id": "QU5GGLFA_dAY"
   },
   "source": [
    "## Evaluate on the Test data"
   ]
  },
  {
   "cell_type": "code",
   "execution_count": 25,
   "metadata": {
    "id": "bLmYtS1N64UU",
    "outputId": "97d34d1e-b252-4a2c-b314-a758df414ddd"
   },
   "outputs": [
    {
     "name": "stdout",
     "output_type": "stream",
     "text": [
      "Number of Observations: 1035\n",
      "Tokens/Features: 44255\n"
     ]
    }
   ],
   "source": [
    "# Preprocess the test data\n",
    "test_dtv = cVect.transform(X_test)\n",
    "test_dtv = test_dtv.toarray()\n",
    "print(f\"Number of Observations: {test_dtv.shape[0]}\\nTokens/Features: {test_dtv.shape[1]}\")"
   ]
  },
  {
   "cell_type": "code",
   "execution_count": 26,
   "metadata": {
    "id": "xEztQBTF_720",
    "outputId": "2b9693c6-3b55-4b46-960a-f2e3465a66ff"
   },
   "outputs": [
    {
     "name": "stdout",
     "output_type": "stream",
     "text": [
      "CPU times: user 225 ms, sys: 174 ms, total: 399 ms\n",
      "Wall time: 265 ms\n"
     ]
    }
   ],
   "source": [
    "%%time\n",
    "pred = lr.predict(test_dtv)"
   ]
  },
  {
   "cell_type": "code",
   "execution_count": 27,
   "metadata": {
    "id": "f3pUmUbqAb91",
    "outputId": "09de5f17-68f8-4469-f538-03d2f3045b92"
   },
   "outputs": [
    {
     "name": "stdout",
     "output_type": "stream",
     "text": [
      "Accuracy:  98.35748792270532\n"
     ]
    }
   ],
   "source": [
    "print('Accuracy: ', accuracy_score(y_test, pred) * 100)"
   ]
  },
  {
   "cell_type": "markdown",
   "metadata": {
    "id": "TGwdpzQnAyKN"
   },
   "source": [
    "  Classification Report of the classifier"
   ]
  },
  {
   "cell_type": "code",
   "execution_count": 28,
   "metadata": {
    "id": "taHJjDfSAkYs",
    "outputId": "964f9aa6-8928-4dd9-df32-f649508c1c97"
   },
   "outputs": [
    {
     "name": "stdout",
     "output_type": "stream",
     "text": [
      "              precision    recall  f1-score   support\n",
      "\n",
      "           0       1.00      0.98      0.99       744\n",
      "           1       0.95      0.99      0.97       291\n",
      "\n",
      "    accuracy                           0.98      1035\n",
      "   macro avg       0.97      0.99      0.98      1035\n",
      "weighted avg       0.98      0.98      0.98      1035\n",
      "\n"
     ]
    }
   ],
   "source": [
    "# 0 - Not Spam / Ham\n",
    "# 1 - Spam \n",
    "print(classification_report(y_test, pred))"
   ]
  },
  {
   "cell_type": "markdown",
   "metadata": {
    "id": "W0PQUVsoBPIX"
   },
   "source": [
    "  Confusion Matrix"
   ]
  },
  {
   "cell_type": "code",
   "execution_count": 29,
   "metadata": {
    "id": "ue-vbeDICs-y",
    "outputId": "aec60fe6-fbcb-4b02-c93e-6cfe207e2b30"
   },
   "outputs": [
    {
     "data": {
      "image/png": "[encoded data removed]",
      "text/plain": [
       "<Figure size 432x432 with 1 Axes>"
      ]
     },
     "metadata": {},
     "output_type": "display_data"
    }
   ],
   "source": [
    "cmat = confusion_matrix(y_test, pred)\n",
    "plt.figure(figsize = (6, 6))\n",
    "sns.heatmap(cmat, annot = True, cmap = 'Paired', cbar = False, fmt=\"d\", xticklabels=['Not Spam', 'Spam'], yticklabels=['Not Spam', 'Spam']);"
   ]
  },
  {
   "cell_type": "markdown",
   "metadata": {
    "id": "WoTvO1fQOiKE"
   },
   "source": [
    "## Predict Class label for the unseen data i.e., Spam or Not Spam"
   ]
  },
  {
   "cell_type": "code",
   "execution_count": 1,
   "metadata": {
    "id": "B9T5vL8MEcJW"
   },
   "outputs": [],
   "source": [
    "# 'You won money in lottery. Click here to avail'\n",
    "def predict_class(lr):\n",
    "    text = input('Enter Text(Subject of the mail): ')\n",
    "    text = [' '.join([ word for word in word_tokenize(text)  if not word in stop_words])]\n",
    "    t_dtv = cVect.transform(text).toarray()\n",
    "    print('Predicted Class:', end = ' ')\n",
    "    print('Spam' if lr.predict(t_dtv)[0] else 'Not Spam') \n",
    "    prob = lr.predict_proba(t_dtv)*100\n",
    "    print(f\"Not Spam: {prob[0][0]}%\\nSpam: {prob[0][1]}%\")\n",
    "    plt.figure(figsize=(12, 6))\n",
    "    sns.barplot(x =['Not Spam', 'Spam'] , y = [prob[0][0], prob[0][1]])\n",
    "    plt.xlabel('Class')\n",
    "    plt.ylabel('Probalility')\n",
    "    plt.show()\n"
   ]
  },
  {
   "cell_type": "code",
   "execution_count": 38,
   "metadata": {
    "id": "hTqU6h8dIgqg",
    "outputId": "1d2c0ef5-1e31-467f-c15f-fb48e6ae092b"
   },
   "outputs": [
    {
     "name": "stdout",
     "output_type": "stream",
     "text": [
      "Enter Text(Subject of the mail): Celebration for Diwali\n",
      "Predicted Class: Spam\n",
      "Not Spam: 36.57041506170512%\n",
      "Spam: 63.42958493829488%\n"
     ]
    },
    {
     "data": {
      "image/png": "[encoded data removed]",
      "text/plain": [
       "<Figure size 864x432 with 1 Axes>"
      ]
     },
     "metadata": {},
     "output_type": "display_data"
    }
   ],
   "source": [
    "predict_class(lr)"
   ]
  },
  {
   "cell_type": "code",
   "execution_count": 55,
   "metadata": {},
   "outputs": [
    {
     "name": "stdout",
     "output_type": "stream",
     "text": [
      "     label                                               text  class\n",
      "0      ham  Subject : enron methanol ; meter # : 988291 fo...      0\n",
      "1      ham  Subject : hpl nom january 9 , 2001 ( see attac...      0\n",
      "2      ham  Subject : neon retreat ho ho ho , ' around won...      0\n",
      "3     spam  Subject : photoshop , windows , office . cheap...      1\n",
      "4      ham  Subject : : indian springs deal book teco pvr ...      0\n",
      "...    ...                                                ...    ...\n",
      "5166   ham  Subject : put 10 ft transport volumes decrease...      0\n",
      "5167   ham  Subject : 3 / 4 / 2000 following noms hpl ' ta...      0\n",
      "5168   ham  Subject : calpine daily gas nomination > > jul...      0\n",
      "5169   ham  Subject : industrial worksheets august 2000 ac...      0\n",
      "5170  spam  Subject : important online banking alert dear ...      1\n",
      "\n",
      "[5171 rows x 3 columns]\n"
     ]
    }
   ],
   "source": [
    "print(df)"
   ]
  },
  {
   "cell_type": "markdown",
   "metadata": {},
   "source": [
    "# Description \n",
    "I have used Spam-Ham dataset to implement the assignment . From scikit-learn I have imported count-vectorizer to count the number of occurences of that word in the document .I have done preprocessing of dataset by removing the stopwords . Then I have splitted data in training and testing . Then I have build the model and fitted in X_train .Then performed transformations . For Hyper Tuning I have used Logistic Regression . After testing printed the accuracy score and classification report ."
   ]
  },
  {
   "cell_type": "code",
   "execution_count": null,
   "metadata": {},
   "outputs": [],
   "source": [
    "# first time using count vectorizer "
   ]
  },
  {
   "cell_type": "code",
   "execution_count": 36,
   "metadata": {},
   "outputs": [],
   "source": [
    "\n",
    "txt = ['hello my name us yash', ' abhi is my brother ', 'this jupyter notebook', 'features of count vectorizer']\n"
   ]
  },
  {
   "cell_type": "code",
   "execution_count": 37,
   "metadata": {},
   "outputs": [],
   "source": [
    "count_vect= CountVectorizer()"
   ]
  },
  {
   "cell_type": "code",
   "execution_count": 38,
   "metadata": {},
   "outputs": [],
   "source": [
    "count_matrix = count_vect.fit_transform(txt)"
   ]
  },
  {
   "cell_type": "code",
   "execution_count": 39,
   "metadata": {},
   "outputs": [],
   "source": [
    "count_array = count_matrix.toarray()"
   ]
  },
  {
   "cell_type": "code",
   "execution_count": 40,
   "metadata": {},
   "outputs": [],
   "source": [
    "df =pd.DataFrame(data = count_array,columns = count_vect.get_feature_names_out())"
   ]
  },
  {
   "cell_type": "code",
   "execution_count": 41,
   "metadata": {},
   "outputs": [
    {
     "name": "stdout",
     "output_type": "stream",
     "text": [
      "   abhi  brother  count  features  hello  is  jupyter  my  name  notebook  of  \\\n",
      "0     0        0      0         0      1   0        0   1     1         0   0   \n",
      "1     1        1      0         0      0   1        0   1     0         0   0   \n",
      "2     0        0      0         0      0   0        1   0     0         1   0   \n",
      "3     0        0      1         1      0   0        0   0     0         0   1   \n",
      "\n",
      "   this  us  vectorizer  yash  \n",
      "0     0   1           0     1  \n",
      "1     0   0           0     0  \n",
      "2     1   0           0     0  \n",
      "3     0   0           1     0  \n"
     ]
    }
   ],
   "source": [
    "print(df)"
   ]
  },
  {
   "cell_type": "code",
   "execution_count": null,
   "metadata": {},
   "outputs": [],
   "source": []
  }
 ],
 "metadata": {
  "accelerator": "GPU",
  "colab": {
   "collapsed_sections": [],
   "name": "Spam_Mail_Classifier.ipynb",
   "provenance": []
  },
  "kernelspec": {
   "display_name": "Python 3 (ipykernel)",
   "language": "python",
   "name": "python3"
  },
  "language_info": {
   "codemirror_mode": {
    "name": "ipython",
    "version": 3
   },
   "file_extension": ".py",
   "mimetype": "text/x-python",
   "name": "python",
   "nbconvert_exporter": "python",
   "pygments_lexer": "ipython3",
   "version": "3.10.12"
  }
 },
 "nbformat": 4,
 "nbformat_minor": 4
}
